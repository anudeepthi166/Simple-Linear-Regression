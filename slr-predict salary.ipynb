{
 "cells": [
  {
   "cell_type": "code",
   "execution_count": 2,
   "id": "d35b362d",
   "metadata": {},
   "outputs": [],
   "source": [
    "import pandas\n",
    "import os\n",
    "from sklearn.linear_model import LinearRegression\n",
    "from sklearn.model_selection import train_test_split\n",
    "\n",
    "\n",
    "\n",
    "\n",
    "\n",
    "\t"
   ]
  },
  {
   "cell_type": "code",
   "execution_count": 3,
   "id": "9c05aba4",
   "metadata": {},
   "outputs": [],
   "source": [
    "dataset=pandas.read_csv('SalaryData.csv')\n",
    "#print(dataset)\n",
    "x=dataset[['YearsExperience']]\n",
    "y=dataset['Salary']\n",
    "model=LinearRegression()"
   ]
  },
  {
   "cell_type": "code",
   "execution_count": 4,
   "id": "95482910",
   "metadata": {},
   "outputs": [
    {
     "name": "stdout",
     "output_type": "stream",
     "text": [
      "\n",
      "coefficient is = [9609.69304386]\n"
     ]
    }
   ],
   "source": [
    "x_train,x_test,y_train,y_test=train_test_split(x,y,test_size=0.30)\n",
    "model.fit(x_train,y_train)\n",
    "print(\"\\ncoefficient is =\",model.coef_)\n",
    "y_pred=model.predict(x_test)\n",
    "eff=0"
   ]
  },
  {
   "cell_type": "code",
   "execution_count": null,
   "id": "dbea4eca",
   "metadata": {},
   "outputs": [
    {
     "name": "stdout",
     "output_type": "stream",
     "text": [
      "enter a to exit\n",
      "enter experience1\n"
     ]
    },
    {
     "name": "stderr",
     "output_type": "stream",
     "text": [
      "/home/anudeepthi/.local/lib/python3.8/site-packages/sklearn/base.py:445: UserWarning: X does not have valid feature names, but LinearRegression was fitted with feature names\n",
      "  warnings.warn(\n"
     ]
    },
    {
     "name": "stdout",
     "output_type": "stream",
     "text": [
      "\n",
      "predicted value [33597.4717666]\n",
      "enter a to exit\n",
      "enter experience0\n"
     ]
    },
    {
     "name": "stderr",
     "output_type": "stream",
     "text": [
      "/home/anudeepthi/.local/lib/python3.8/site-packages/sklearn/base.py:445: UserWarning: X does not have valid feature names, but LinearRegression was fitted with feature names\n",
      "  warnings.warn(\n"
     ]
    },
    {
     "name": "stdout",
     "output_type": "stream",
     "text": [
      "\n",
      "predicted value [23987.77872275]\n",
      "enter a to exit\n"
     ]
    }
   ],
   "source": [
    "while True:\n",
    "\tprint(\"enter a to exit\")\n",
    "\ti=input(\"enter experience\")\n",
    "\tif i=='a':\n",
    "\t\tos.system(exit())\n",
    "\telse:\n",
    "\t\tex=float(i)\n",
    "\t\tprint(\"\\npredicted value\",model.predict([[ex]]))"
   ]
  }
 ],
 "metadata": {
  "kernelspec": {
   "display_name": "Python 3",
   "language": "python",
   "name": "python3"
  },
  "language_info": {
   "codemirror_mode": {
    "name": "ipython",
    "version": 3
   },
   "file_extension": ".py",
   "mimetype": "text/x-python",
   "name": "python",
   "nbconvert_exporter": "python",
   "pygments_lexer": "ipython3",
   "version": "3.8.5"
  }
 },
 "nbformat": 4,
 "nbformat_minor": 5
}
